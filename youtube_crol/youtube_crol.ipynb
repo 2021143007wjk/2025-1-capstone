{
 "cells": [
  {
   "cell_type": "code",
   "execution_count": 16,
   "id": "8e8371ee",
   "metadata": {},
   "outputs": [],
   "source": [
    "import os\n",
    "import pandas as pd\n",
    "\n",
    "# 폴더 경로 설정\n",
    "folder_path = 'crol_data'\n",
    "\n",
    "# 폴더 내 모든 CSV 파일 읽기\n",
    "all_dataframes = []\n",
    "for file_name in os.listdir(folder_path):\n",
    "    if file_name.endswith('.csv'):\n",
    "        file_path = os.path.join(folder_path, file_name)\n",
    "        df = pd.read_csv(file_path)\n",
    "        all_dataframes.append(df)\n",
    "\n",
    "# 데이터프레임 합치기\n",
    "combined_df = pd.concat(all_dataframes, ignore_index=True)\n",
    "\n",
    "new_df = pd.DataFrame()\n",
    "# 결과 확인\n",
    "\n",
    "new_df['title_comment'] = combined_df['제목'] + combined_df['댓글']\n",
    "combined_df.drop_duplicates().to_csv('1combined_data.csv', index=False)\n"
   ]
  },
  {
   "cell_type": "code",
   "execution_count": null,
   "id": "5dc75390",
   "metadata": {},
   "outputs": [],
   "source": [
    "from youtube_vidio_crol import youtube_comments_crawler\n",
    "from youtube_url_crol import load_saved_urls, save_urls, youtube_url_crawler\n",
    "\n",
    "saved_urls = load_saved_urls()\n",
    "\n",
    "pass_url = 0\n",
    "all_url = 0\n",
    "\n",
    "for video_url in youtube_url_crawler('https://www.youtube.com/@BBCNews/videos'):\n",
    "    all_url += 1\n",
    "    if video_url in saved_urls:\n",
    "        print(f\"이미 처리된 URL: {video_url}\")\n",
    "        continue\n",
    "\n",
    "    try:\n",
    "        print(f\"크롤링 시작: {video_url}\")\n",
    "        data = youtube_comments_crawler(video_url)\n",
    "        data.to_csv(f'crol_data/youtube_comments_{video_url.split('=')[1]}.csv', index=False, encoding='utf-8-sig')\n",
    "        print(f\"댓글 데이터를 {f'crol_data/youtube_comments_{video_url.split('=')[1]}.csv'} 파일로 저장했습니다.\")\n",
    "\n",
    "        # URL 저장\n",
    "        save_urls([video_url])\n",
    "\n",
    "    except Exception as e:\n",
    "        pass_url += 1\n",
    "        print(f\"크롤링 중 오류 발생: {e}\")\n",
    "print(f\"처리된 URL 수: {all_url}\")\n",
    "print(f\"처리되지 않은 URL 수: {pass_url}\")"
   ]
  }
 ],
 "metadata": {
  "kernelspec": {
   "display_name": "youtube_crol",
   "language": "python",
   "name": "python3"
  },
  "language_info": {
   "codemirror_mode": {
    "name": "ipython",
    "version": 3
   },
   "file_extension": ".py",
   "mimetype": "text/x-python",
   "name": "python",
   "nbconvert_exporter": "python",
   "pygments_lexer": "ipython3",
   "version": "3.13.2"
  }
 },
 "nbformat": 4,
 "nbformat_minor": 5
}
