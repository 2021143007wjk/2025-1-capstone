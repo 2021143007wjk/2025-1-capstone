{
 "cells": [
  {
   "cell_type": "code",
   "execution_count": 2,
   "id": "f638a24b",
   "metadata": {},
   "outputs": [
    {
     "name": "stdout",
     "output_type": "stream",
     "text": [
      "<class 'pandas.core.frame.DataFrame'>\n",
      "Index: 45356 entries, 0 to 47567\n",
      "Data columns (total 6 columns):\n",
      " #   Column  Non-Null Count  Dtype  \n",
      "---  ------  --------------  -----  \n",
      " 0   댓글      45355 non-null  object \n",
      " 1   답글      45356 non-null  float64\n",
      " 2   좋아요     45356 non-null  float64\n",
      " 3   제목      45356 non-null  object \n",
      " 4   조회수     45356 non-null  float64\n",
      " 5   최대 좋아요  45356 non-null  float64\n",
      "dtypes: float64(4), object(2)\n",
      "memory usage: 2.4+ MB\n"
     ]
    },
    {
     "name": "stderr",
     "output_type": "stream",
     "text": [
      "C:\\Users\\108-0\\AppData\\Local\\Temp\\ipykernel_1680\\1949968113.py:28: FutureWarning: A value is trying to be set on a copy of a DataFrame or Series through chained assignment using an inplace method.\n",
      "The behavior will change in pandas 3.0. This inplace method will never work because the intermediate object on which we are setting values always behaves as a copy.\n",
      "\n",
      "For example, when doing 'df[col].method(value, inplace=True)', try using 'df.method({col: value}, inplace=True)' or df[col] = df[col].method(value) instead, to perform the operation inplace on the original object.\n",
      "\n",
      "\n",
      "  combdata['좋아요'].fillna(0, inplace=True)\n"
     ]
    }
   ],
   "source": [
    "import pandas as pd\n",
    "import numpy as np\n",
    "\n",
    "combdata = pd.read_csv('1combined_data.csv')\n",
    "# imdbdata.head()\n",
    "\n",
    "\n",
    "combdata = combdata[combdata['최대 좋아요'] != '숨기기']\n",
    "# combdata = combdata[combdata['좋아요'] != '숨기기']\n",
    "\n",
    "def convert_to_number(value):\n",
    "    if isinstance(value, str):\n",
    "        value = value.replace('조회수', '').replace('회', '').replace('숨기기','').strip()\n",
    "        value = value.replace('\\xa0', '').replace(',','').strip()\n",
    "        value = value.replace('답글 ', '').replace('개', '').strip()\n",
    "        if '만' in value:\n",
    "            return float(value.replace('만', '').strip()) * 10000\n",
    "        elif '천' in value:\n",
    "            return float(value.replace('천', '').strip()) * 1000\n",
    "        else:\n",
    "            return float(value.strip())\n",
    "    return value\n",
    "\n",
    "# 숫자 변환이 필요한 열에 대해 적용\n",
    "combdata['조회수'] = combdata['조회수'].apply(convert_to_number)\n",
    "combdata['최대 좋아요'] = combdata['최대 좋아요'].apply(convert_to_number)\n",
    "combdata['답글'] = combdata['답글'].apply(convert_to_number)\n",
    "combdata['좋아요'].fillna(0, inplace=True)\n",
    "combdata['좋아요'] = combdata['좋아요'].apply(convert_to_number)\n",
    "combdata = combdata.drop_duplicates(subset=['댓글'], keep='first')\n",
    "combdata.head()\n",
    "combdata.info()"
   ]
  },
  {
   "cell_type": "code",
   "execution_count": 10,
   "id": "7a36cb52",
   "metadata": {},
   "outputs": [
    {
     "data": {
      "text/html": [
       "<div>\n",
       "<style scoped>\n",
       "    .dataframe tbody tr th:only-of-type {\n",
       "        vertical-align: middle;\n",
       "    }\n",
       "\n",
       "    .dataframe tbody tr th {\n",
       "        vertical-align: top;\n",
       "    }\n",
       "\n",
       "    .dataframe thead th {\n",
       "        text-align: right;\n",
       "    }\n",
       "</style>\n",
       "<table border=\"1\" class=\"dataframe\">\n",
       "  <thead>\n",
       "    <tr style=\"text-align: right;\">\n",
       "      <th></th>\n",
       "      <th>댓글</th>\n",
       "      <th>답글</th>\n",
       "      <th>좋아요</th>\n",
       "      <th>제목</th>\n",
       "      <th>조회수</th>\n",
       "      <th>최대 좋아요</th>\n",
       "    </tr>\n",
       "  </thead>\n",
       "  <tbody>\n",
       "    <tr>\n",
       "      <th>0</th>\n",
       "      <td>He introduced himself with a message of peace ...</td>\n",
       "      <td>6.0</td>\n",
       "      <td>375.0</td>\n",
       "      <td>Pope Leo XIV makes first speech from Vatican b...</td>\n",
       "      <td>190000.0</td>\n",
       "      <td>1800.0</td>\n",
       "    </tr>\n",
       "    <tr>\n",
       "      <th>130</th>\n",
       "      <td>The special relationship between the US and Br...</td>\n",
       "      <td>47.0</td>\n",
       "      <td>436.0</td>\n",
       "      <td>Trade war escalates as US metal tariffs take e...</td>\n",
       "      <td>150000.0</td>\n",
       "      <td>1600.0</td>\n",
       "    </tr>\n",
       "    <tr>\n",
       "      <th>250</th>\n",
       "      <td>Sounds like someone is about to spend the wint...</td>\n",
       "      <td>44.0</td>\n",
       "      <td>8100.0</td>\n",
       "      <td>Scientists at Antarctic base rocked by alleged...</td>\n",
       "      <td>970000.0</td>\n",
       "      <td>9900.0</td>\n",
       "    </tr>\n",
       "    <tr>\n",
       "      <th>370</th>\n",
       "      <td>Well, at least everyone is alive and healthy. ...</td>\n",
       "      <td>2.0</td>\n",
       "      <td>101.0</td>\n",
       "      <td>Global flight chaos: 200,000 passengers strand...</td>\n",
       "      <td>160000.0</td>\n",
       "      <td>1500.0</td>\n",
       "    </tr>\n",
       "    <tr>\n",
       "      <th>490</th>\n",
       "      <td>He is right he has lost most of America’s alli...</td>\n",
       "      <td>19.0</td>\n",
       "      <td>190.0</td>\n",
       "      <td>Donald Trump defends tariffs on China, Canada ...</td>\n",
       "      <td>110000.0</td>\n",
       "      <td>1000.0</td>\n",
       "    </tr>\n",
       "    <tr>\n",
       "      <th>...</th>\n",
       "      <td>...</td>\n",
       "      <td>...</td>\n",
       "      <td>...</td>\n",
       "      <td>...</td>\n",
       "      <td>...</td>\n",
       "      <td>...</td>\n",
       "    </tr>\n",
       "    <tr>\n",
       "      <th>47109</th>\n",
       "      <td>As Myanmar citizen, thanks for covering this n...</td>\n",
       "      <td>14.0</td>\n",
       "      <td>219.0</td>\n",
       "      <td>Myanmar death toll rises after earthquake, say...</td>\n",
       "      <td>170000.0</td>\n",
       "      <td>1700.0</td>\n",
       "    </tr>\n",
       "    <tr>\n",
       "      <th>47208</th>\n",
       "      <td>I feel deeply sorry for the people of Myanmar....</td>\n",
       "      <td>5.0</td>\n",
       "      <td>106.0</td>\n",
       "      <td>Undercover in Myanmar: BBC finds earthquake ch...</td>\n",
       "      <td>260000.0</td>\n",
       "      <td>2800.0</td>\n",
       "    </tr>\n",
       "    <tr>\n",
       "      <th>47308</th>\n",
       "      <td>Yeah don't put them both in the same bucket, o...</td>\n",
       "      <td>0.0</td>\n",
       "      <td>38.0</td>\n",
       "      <td>Analysis: Did Caitlin Clark and Angel Reese ch...</td>\n",
       "      <td>12000.0</td>\n",
       "      <td>220.0</td>\n",
       "    </tr>\n",
       "    <tr>\n",
       "      <th>47388</th>\n",
       "      <td>BBC won't tell why Houthis did that .</td>\n",
       "      <td>23.0</td>\n",
       "      <td>586.0</td>\n",
       "      <td>Houthi missile from Yemen hits near Israel's B...</td>\n",
       "      <td>250000.0</td>\n",
       "      <td>2500.0</td>\n",
       "    </tr>\n",
       "    <tr>\n",
       "      <th>47488</th>\n",
       "      <td>You cannot call it counter-tariffs if you star...</td>\n",
       "      <td>110.0</td>\n",
       "      <td>886.0</td>\n",
       "      <td>US President Donald Trump threatens 200% tarif...</td>\n",
       "      <td>280000.0</td>\n",
       "      <td>2100.0</td>\n",
       "    </tr>\n",
       "  </tbody>\n",
       "</table>\n",
       "<p>520 rows × 6 columns</p>\n",
       "</div>"
      ],
      "text/plain": [
       "                                                      댓글     답글     좋아요  \\\n",
       "0      He introduced himself with a message of peace ...    6.0   375.0   \n",
       "130    The special relationship between the US and Br...   47.0   436.0   \n",
       "250    Sounds like someone is about to spend the wint...   44.0  8100.0   \n",
       "370    Well, at least everyone is alive and healthy. ...    2.0   101.0   \n",
       "490    He is right he has lost most of America’s alli...   19.0   190.0   \n",
       "...                                                  ...    ...     ...   \n",
       "47109  As Myanmar citizen, thanks for covering this n...   14.0   219.0   \n",
       "47208  I feel deeply sorry for the people of Myanmar....    5.0   106.0   \n",
       "47308  Yeah don't put them both in the same bucket, o...    0.0    38.0   \n",
       "47388              BBC won't tell why Houthis did that .   23.0   586.0   \n",
       "47488  You cannot call it counter-tariffs if you star...  110.0   886.0   \n",
       "\n",
       "                                                      제목       조회수  최대 좋아요  \n",
       "0      Pope Leo XIV makes first speech from Vatican b...  190000.0  1800.0  \n",
       "130    Trade war escalates as US metal tariffs take e...  150000.0  1600.0  \n",
       "250    Scientists at Antarctic base rocked by alleged...  970000.0  9900.0  \n",
       "370    Global flight chaos: 200,000 passengers strand...  160000.0  1500.0  \n",
       "490    Donald Trump defends tariffs on China, Canada ...  110000.0  1000.0  \n",
       "...                                                  ...       ...     ...  \n",
       "47109  Myanmar death toll rises after earthquake, say...  170000.0  1700.0  \n",
       "47208  Undercover in Myanmar: BBC finds earthquake ch...  260000.0  2800.0  \n",
       "47308  Analysis: Did Caitlin Clark and Angel Reese ch...   12000.0   220.0  \n",
       "47388  Houthi missile from Yemen hits near Israel's B...  250000.0  2500.0  \n",
       "47488  US President Donald Trump threatens 200% tarif...  280000.0  2100.0  \n",
       "\n",
       "[520 rows x 6 columns]"
      ]
     },
     "execution_count": 10,
     "metadata": {},
     "output_type": "execute_result"
    }
   ],
   "source": [
    "combdata.drop_duplicates(subset=['제목'])"
   ]
  },
  {
   "cell_type": "code",
   "execution_count": null,
   "id": "0b9fe9d1",
   "metadata": {},
   "outputs": [
    {
     "name": "stderr",
     "output_type": "stream",
     "text": [
      "C:\\Users\\108-0\\AppData\\Local\\Temp\\ipykernel_14512\\4291357301.py:1: DeprecationWarning: DataFrameGroupBy.apply operated on the grouping columns. This behavior is deprecated, and in a future version of pandas the grouping columns will be excluded from the operation. Either pass `include_groups=False` to exclude the groupings or explicitly select the grouping columns after groupby to silence this warning.\n",
      "  sampled_combdata = combdata.groupby('제목').apply(lambda x: x.sample(n=4, random_state=42) if len(x) >= 4 else x).reset_index(drop=True)\n"
     ]
    }
   ],
   "source": [
    "sampled_combdata = combdata.groupby('제목').apply(lambda x: x.sample(n=4, random_state=42) if len(x) >= 4 else x).reset_index(drop=True)\n",
    "\n",
    "sampled_combdata.to_csv('sampled_combdata.csv', index=False, encoding='utf-8-sig')"
   ]
  },
  {
   "cell_type": "code",
   "execution_count": 35,
   "id": "641699c2",
   "metadata": {},
   "outputs": [
    {
     "name": "stdout",
     "output_type": "stream",
     "text": [
      "모든 입력이 완료되었습니다.\n"
     ]
    }
   ],
   "source": [
    "import pandas as pd\n",
    "import os\n",
    "from IPython.display import clear_output\n",
    "\n",
    "# comb.csv 파일 불러오기 또는 생성\n",
    "if os.path.exists('comb.csv'):\n",
    "    comb = pd.read_csv('comb.csv')\n",
    "else:\n",
    "    # 예시용 데이터 생성 (필요 시 수정)\n",
    "    comb = pd.DataFrame({\n",
    "        'feature1': ['A', 'B', 'C', 'D', 'E', 'F', 'G', 'H', 'I', 'J'],\n",
    "        'feature2': [10, 20, 30, 40, 50, 60, 70, 80, 90, 100],\n",
    "        'target': [None] * 10\n",
    "    })\n",
    "    comb.to_csv('comb.csv', index=False)\n",
    "\n",
    "if 'target' not in comb.columns:\n",
    "    comb['target'] = ''\n",
    "\n",
    "# 입력을 시작할 인덱스 찾기\n",
    "comb.loc[comb['답글'] == 0, 'target'] = 0\n",
    "\n",
    "pending_idx = comb[(comb['target'].isna()) | (comb['target'] == '')].index\n",
    "\n",
    "# 입력 루프 시작\n",
    "for idx in pending_idx:\n",
    "    row = comb.loc[idx]\n",
    "    print(f\"Index {idx} 데이터:\")\n",
    "    print(row.drop('target'))  # 'target' 제외하고 보여줌\n",
    "    print(\"-\" * 30)\n",
    "    \n",
    "    user_input = input(\"위 데이터를 보고 'target' 값을 입력하세요 (종료하려면 '종료한다'): \")\n",
    "\n",
    "    if user_input.strip() == '종료한다':\n",
    "        print(\"입력을 종료합니다. 데이터 저장 중...\")\n",
    "        comb.to_csv('comb.csv', index=False)\n",
    "        break\n",
    "\n",
    "    comb.at[idx, 'target'] = user_input\n",
    "    comb.to_csv('comb.csv', index=False, encoding='utf-8-sig')\n",
    "    \n",
    "    # 출력 지우기\n",
    "    clear_output(wait=True)\n",
    "\n",
    "# 남은 항목이 없다면 알림\n",
    "if comb[(comb['target'].isna()) | (comb['target'] == '')].empty:\n",
    "    print(\"모든 입력이 완료되었습니다.\")\n"
   ]
  },
  {
   "cell_type": "code",
   "execution_count": 44,
   "id": "1b8b4810",
   "metadata": {},
   "outputs": [
    {
     "data": {
      "text/plain": [
       "target\n",
       "0.0    1892\n",
       "1.0     186\n",
       "Name: count, dtype: int64"
      ]
     },
     "execution_count": 44,
     "metadata": {},
     "output_type": "execute_result"
    }
   ],
   "source": [
    "check = pd.read_csv('comb.csv')\n",
    "# check.loc[check['답글'] == 0, 'target'] = 0\n",
    "check['target'].value_counts()\n",
    "# check.info()"
   ]
  },
  {
   "cell_type": "code",
   "execution_count": 29,
   "id": "25e7a8a7",
   "metadata": {},
   "outputs": [
    {
     "data": {
      "text/html": [
       "<div>\n",
       "<style scoped>\n",
       "    .dataframe tbody tr th:only-of-type {\n",
       "        vertical-align: middle;\n",
       "    }\n",
       "\n",
       "    .dataframe tbody tr th {\n",
       "        vertical-align: top;\n",
       "    }\n",
       "\n",
       "    .dataframe thead th {\n",
       "        text-align: right;\n",
       "    }\n",
       "</style>\n",
       "<table border=\"1\" class=\"dataframe\">\n",
       "  <thead>\n",
       "    <tr style=\"text-align: right;\">\n",
       "      <th></th>\n",
       "      <th>댓글</th>\n",
       "      <th>답글</th>\n",
       "      <th>좋아요</th>\n",
       "      <th>제목</th>\n",
       "      <th>조회수</th>\n",
       "      <th>최대 좋아요</th>\n",
       "      <th>target</th>\n",
       "    </tr>\n",
       "  </thead>\n",
       "  <tbody>\n",
       "    <tr>\n",
       "      <th>0</th>\n",
       "      <td>Wow .... The Chinese government is making the ...</td>\n",
       "      <td>0.0</td>\n",
       "      <td>2.0</td>\n",
       "      <td>Aboard China’s ‘silver trains’ taking pensione...</td>\n",
       "      <td>120000.0</td>\n",
       "      <td>1200.0</td>\n",
       "      <td>0.0</td>\n",
       "    </tr>\n",
       "    <tr>\n",
       "      <th>1</th>\n",
       "      <td>where is the most common ending:so at what cost?</td>\n",
       "      <td>0.0</td>\n",
       "      <td>8.0</td>\n",
       "      <td>Aboard China’s ‘silver trains’ taking pensione...</td>\n",
       "      <td>120000.0</td>\n",
       "      <td>1200.0</td>\n",
       "      <td>0.0</td>\n",
       "    </tr>\n",
       "    <tr>\n",
       "      <th>2</th>\n",
       "      <td>Its called smart policies: win win\\n\\nCould yo...</td>\n",
       "      <td>1.0</td>\n",
       "      <td>2.0</td>\n",
       "      <td>Aboard China’s ‘silver trains’ taking pensione...</td>\n",
       "      <td>120000.0</td>\n",
       "      <td>1200.0</td>\n",
       "      <td>0.0</td>\n",
       "    </tr>\n",
       "    <tr>\n",
       "      <th>3</th>\n",
       "      <td>China Silver's Train ....against \\nTrump's Usa...</td>\n",
       "      <td>0.0</td>\n",
       "      <td>19.0</td>\n",
       "      <td>Aboard China’s ‘silver trains’ taking pensione...</td>\n",
       "      <td>120000.0</td>\n",
       "      <td>1200.0</td>\n",
       "      <td>0.0</td>\n",
       "    </tr>\n",
       "    <tr>\n",
       "      <th>4</th>\n",
       "      <td>Its hard to know who is who to be honest, it d...</td>\n",
       "      <td>0.0</td>\n",
       "      <td>4.0</td>\n",
       "      <td>Abuse victims question if Pope Francis did eno...</td>\n",
       "      <td>9900.0</td>\n",
       "      <td>144.0</td>\n",
       "      <td>0.0</td>\n",
       "    </tr>\n",
       "  </tbody>\n",
       "</table>\n",
       "</div>"
      ],
      "text/plain": [
       "                                                  댓글   답글   좋아요  \\\n",
       "0  Wow .... The Chinese government is making the ...  0.0   2.0   \n",
       "1   where is the most common ending:so at what cost?  0.0   8.0   \n",
       "2  Its called smart policies: win win\\n\\nCould yo...  1.0   2.0   \n",
       "3  China Silver's Train ....against \\nTrump's Usa...  0.0  19.0   \n",
       "4  Its hard to know who is who to be honest, it d...  0.0   4.0   \n",
       "\n",
       "                                                  제목       조회수  최대 좋아요  target  \n",
       "0  Aboard China’s ‘silver trains’ taking pensione...  120000.0  1200.0     0.0  \n",
       "1  Aboard China’s ‘silver trains’ taking pensione...  120000.0  1200.0     0.0  \n",
       "2  Aboard China’s ‘silver trains’ taking pensione...  120000.0  1200.0     0.0  \n",
       "3  Aboard China’s ‘silver trains’ taking pensione...  120000.0  1200.0     0.0  \n",
       "4  Abuse victims question if Pope Francis did eno...    9900.0   144.0     0.0  "
      ]
     },
     "execution_count": 29,
     "metadata": {},
     "output_type": "execute_result"
    }
   ],
   "source": [
    "check.head()"
   ]
  },
  {
   "cell_type": "code",
   "execution_count": 41,
   "id": "2c2fba46",
   "metadata": {},
   "outputs": [
    {
     "name": "stdout",
     "output_type": "stream",
     "text": [
      "<class 'pandas.core.frame.DataFrame'>\n",
      "Index: 45356 entries, 0 to 47567\n",
      "Data columns (total 6 columns):\n",
      " #   Column  Non-Null Count  Dtype  \n",
      "---  ------  --------------  -----  \n",
      " 0   댓글      45355 non-null  object \n",
      " 1   답글      45356 non-null  float64\n",
      " 2   좋아요     45356 non-null  float64\n",
      " 3   제목      45356 non-null  object \n",
      " 4   조회수     45356 non-null  float64\n",
      " 5   최대 좋아요  45356 non-null  float64\n",
      "dtypes: float64(4), object(2)\n",
      "memory usage: 2.4+ MB\n",
      "<class 'pandas.core.frame.DataFrame'>\n",
      "Index: 43278 entries, 0 to 47567\n",
      "Data columns (total 6 columns):\n",
      " #   Column  Non-Null Count  Dtype  \n",
      "---  ------  --------------  -----  \n",
      " 0   댓글      43277 non-null  object \n",
      " 1   답글      43278 non-null  float64\n",
      " 2   좋아요     43278 non-null  float64\n",
      " 3   제목      43278 non-null  object \n",
      " 4   조회수     43278 non-null  float64\n",
      " 5   최대 좋아요  43278 non-null  float64\n",
      "dtypes: float64(4), object(2)\n",
      "memory usage: 2.3+ MB\n"
     ]
    }
   ],
   "source": [
    "# 전체에서 샘플을 빼고, 제목 댓글만 남기고 파일로 저장\n",
    "\n",
    "label_data = pd.read_csv('comb.csv')\n",
    "combdata.info()\n",
    "combdata = combdata[~combdata['댓글'].isin(label_data['댓글'])]\n",
    "combdata.info()"
   ]
  },
  {
   "cell_type": "code",
   "execution_count": 50,
   "id": "2bdbd44d",
   "metadata": {},
   "outputs": [
    {
     "name": "stdout",
     "output_type": "stream",
     "text": [
      "<class 'pandas.core.frame.DataFrame'>\n",
      "Index: 43278 entries, 0 to 47567\n",
      "Data columns (total 1 columns):\n",
      " #   Column         Non-Null Count  Dtype \n",
      "---  ------         --------------  ----- \n",
      " 0   title_comment  43277 non-null  object\n",
      "dtypes: object(1)\n",
      "memory usage: 676.2+ KB\n",
      "<class 'pandas.core.frame.DataFrame'>\n",
      "RangeIndex: 2078 entries, 0 to 2077\n",
      "Data columns (total 2 columns):\n",
      " #   Column         Non-Null Count  Dtype  \n",
      "---  ------         --------------  -----  \n",
      " 0   title_comment  2078 non-null   object \n",
      " 1   target         2078 non-null   float64\n",
      "dtypes: float64(1), object(1)\n",
      "memory usage: 32.6+ KB\n",
      "<class 'pandas.core.frame.DataFrame'>\n",
      "Index: 43277 entries, 0 to 47567\n",
      "Data columns (total 1 columns):\n",
      " #   Column         Non-Null Count  Dtype \n",
      "---  ------         --------------  ----- \n",
      " 0   title_comment  43277 non-null  object\n",
      "dtypes: object(1)\n",
      "memory usage: 676.2+ KB\n"
     ]
    }
   ],
   "source": [
    "new_combdata = pd.DataFrame()\n",
    "new_label_data = pd.DataFrame()\n",
    "\n",
    "new_combdata['title_comment'] = combdata['제목'] + combdata['댓글']\n",
    "\n",
    "new_label_data['title_comment'] = label_data['제목'] + label_data['댓글']\n",
    "new_label_data['target'] = label_data['target']\n",
    "\n",
    "new_combdata.info()\n",
    "new_label_data.info()\n",
    "\n",
    "new_combdata.dropna(inplace=True)\n",
    "new_combdata.info()\n",
    "\n",
    "new_label_data['target'].value_counts()\n",
    "new_label_data['target'] = new_label_data['target'].astype(int)\n",
    "\n",
    "new_combdata.to_csv('new_combdata.csv', index=False, encoding='utf-8-sig')\n",
    "new_label_data.to_csv('new_label_data.csv', index=False, encoding='utf-8-sig')"
   ]
  },
  {
   "cell_type": "code",
   "execution_count": 52,
   "id": "f2931477",
   "metadata": {},
   "outputs": [
    {
     "name": "stdout",
     "output_type": "stream",
     "text": [
      "<class 'pandas.core.frame.DataFrame'>\n",
      "RangeIndex: 2078 entries, 0 to 2077\n",
      "Data columns (total 2 columns):\n",
      " #   Column         Non-Null Count  Dtype \n",
      "---  ------         --------------  ----- \n",
      " 0   title_comment  2078 non-null   object\n",
      " 1   target         2078 non-null   int64 \n",
      "dtypes: int64(1), object(1)\n",
      "memory usage: 32.6+ KB\n"
     ]
    }
   ],
   "source": [
    "new_label_data.head()\n",
    "new_label_data.info()"
   ]
  },
  {
   "cell_type": "code",
   "execution_count": 33,
   "id": "8c97c519",
   "metadata": {},
   "outputs": [
    {
     "data": {
      "text/plain": [
       "predicted_label\n",
       "0    38255\n",
       "1     5022\n",
       "Name: count, dtype: int64"
      ]
     },
     "execution_count": 33,
     "metadata": {},
     "output_type": "execute_result"
    }
   ],
   "source": [
    "import pandas as pd\n",
    "data = pd.read_csv('unlabeled_prediction_results3.csv')\n",
    "data['predicted_label'].value_counts()\n",
    "# data.info()"
   ]
  },
  {
   "cell_type": "code",
   "execution_count": 31,
   "id": "972f71c3",
   "metadata": {},
   "outputs": [
    {
     "name": "stdout",
     "output_type": "stream",
     "text": [
      "<class 'pandas.core.frame.DataFrame'>\n",
      "Index: 45356 entries, 0 to 47567\n",
      "Data columns (total 7 columns):\n",
      " #   Column         Non-Null Count  Dtype  \n",
      "---  ------         --------------  -----  \n",
      " 0   댓글             45355 non-null  object \n",
      " 1   답글             45356 non-null  float64\n",
      " 2   좋아요            45356 non-null  float64\n",
      " 3   제목             45356 non-null  object \n",
      " 4   조회수            45356 non-null  float64\n",
      " 5   최대 좋아요         45356 non-null  float64\n",
      " 6   title_comment  45355 non-null  object \n",
      "dtypes: float64(4), object(3)\n",
      "memory usage: 2.8+ MB\n"
     ]
    }
   ],
   "source": [
    "combdata\n",
    "combdata['title_comment'] = combdata['제목'] + combdata['댓글']\n",
    "combdata.info()"
   ]
  },
  {
   "cell_type": "code",
   "execution_count": null,
   "id": "53e9468d",
   "metadata": {},
   "outputs": [],
   "source": [
    "# combdata[combdata['title_comment'] == data[data['predicted_label'] == 1]['text']]\n",
    "filtered_texts = data[data['predicted_label'] == 1]['text']\n",
    "combdata_filtered = combdata[combdata['title_comment'].isin(filtered_texts)]\n",
    "combdata_filtered['댓글']\n",
    "\n",
    "\n",
    "\n",
    "combdata_filtered['댓글'].to_csv('filtered33333.csv', index=False, encoding='utf-8-sig')"
   ]
  },
  {
   "cell_type": "code",
   "execution_count": 42,
   "id": "eb2ca325",
   "metadata": {},
   "outputs": [
    {
     "name": "stdout",
     "output_type": "stream",
     "text": [
      "댓글        Wow .... The Chinese government is making the ...\n",
      "답글                                                      0.0\n",
      "좋아요                                                     2.0\n",
      "제목        Aboard China’s ‘silver trains’ taking pensione...\n",
      "조회수                                                120000.0\n",
      "최대 좋아요                                               1200.0\n",
      "target                                                  0.0\n",
      "Name: 0, dtype: object\n",
      "댓글        Deforestation for a climate summit. Are they e...\n",
      "답글                                                      7.0\n",
      "좋아요                                                   417.0\n",
      "제목        Amazon forest felled to build road for climate...\n",
      "조회수                                                 69000.0\n",
      "최대 좋아요                                                908.0\n",
      "target                                                  1.0\n",
      "Name: 21, dtype: object\n"
     ]
    }
   ],
   "source": [
    "check = pd.read_csv('comb.csv')\n",
    "# check.head()\n",
    "print(check[check['target'] == 0].iloc[0])\n",
    "print(check[check['target'] == 1].iloc[0])\n"
   ]
  }
 ],
 "metadata": {
  "kernelspec": {
   "display_name": "crol",
   "language": "python",
   "name": "python3"
  },
  "language_info": {
   "codemirror_mode": {
    "name": "ipython",
    "version": 3
   },
   "file_extension": ".py",
   "mimetype": "text/x-python",
   "name": "python",
   "nbconvert_exporter": "python",
   "pygments_lexer": "ipython3",
   "version": "3.13.2"
  }
 },
 "nbformat": 4,
 "nbformat_minor": 5
}
